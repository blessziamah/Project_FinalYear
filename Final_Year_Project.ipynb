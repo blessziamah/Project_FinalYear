{
 "nbformat": 4,
 "nbformat_minor": 0,
 "metadata": {
  "colab": {
   "provenance": [],
   "gpuType": "T4",
   "toc_visible": true
  },
  "kernelspec": {
   "name": "python3",
   "display_name": "Python 3"
  },
  "language_info": {
   "name": "python"
  },
  "accelerator": "GPU",
  "widgets": {
   "application/vnd.jupyter.widget-state+json": {
    "84bbd55cb2074c4e89eb1e5a90640ea7": {
     "model_module": "@jupyter-widgets/controls",
     "model_name": "HBoxModel",
     "model_module_version": "1.5.0",
     "state": {
      "_dom_classes": [],
      "_model_module": "@jupyter-widgets/controls",
      "_model_module_version": "1.5.0",
      "_model_name": "HBoxModel",
      "_view_count": null,
      "_view_module": "@jupyter-widgets/controls",
      "_view_module_version": "1.5.0",
      "_view_name": "HBoxView",
      "box_style": "",
      "children": [
       "IPY_MODEL_241a206d66a44dbfb5d6d4cb6cd91ce4",
       "IPY_MODEL_e4eb72c51938475bbb022e9a00977f4d",
       "IPY_MODEL_c69f43e6a3974a46bebb97a47db2e547"
      ],
      "layout": "IPY_MODEL_7f8c5744c6464e1f806b0ac2672c3564"
     }
    },
    "241a206d66a44dbfb5d6d4cb6cd91ce4": {
     "model_module": "@jupyter-widgets/controls",
     "model_name": "HTMLModel",
     "model_module_version": "1.5.0",
     "state": {
      "_dom_classes": [],
      "_model_module": "@jupyter-widgets/controls",
      "_model_module_version": "1.5.0",
      "_model_name": "HTMLModel",
      "_view_count": null,
      "_view_module": "@jupyter-widgets/controls",
      "_view_module_version": "1.5.0",
      "_view_name": "HTMLView",
      "description": "",
      "description_tooltip": null,
      "layout": "IPY_MODEL_61cb2b09938a406ca735367e4fe94455",
      "placeholder": "​",
      "style": "IPY_MODEL_77a7cb01df784fde8ab76a4a7b77d1ad",
      "value": " 86%"
     }
    },
    "e4eb72c51938475bbb022e9a00977f4d": {
     "model_module": "@jupyter-widgets/controls",
     "model_name": "FloatProgressModel",
     "model_module_version": "1.5.0",
     "state": {
      "_dom_classes": [],
      "_model_module": "@jupyter-widgets/controls",
      "_model_module_version": "1.5.0",
      "_model_name": "FloatProgressModel",
      "_view_count": null,
      "_view_module": "@jupyter-widgets/controls",
      "_view_module_version": "1.5.0",
      "_view_name": "ProgressView",
      "bar_style": "",
      "description": "",
      "description_tooltip": null,
      "layout": "IPY_MODEL_9b4fd5e48cb34adaaa62abe6f480f2f6",
      "max": 200,
      "min": 0,
      "orientation": "horizontal",
      "style": "IPY_MODEL_0de96dda6ccc4d0fbd7e0e2e3383c7b0",
      "value": 172
     }
    },
    "c69f43e6a3974a46bebb97a47db2e547": {
     "model_module": "@jupyter-widgets/controls",
     "model_name": "HTMLModel",
     "model_module_version": "1.5.0",
     "state": {
      "_dom_classes": [],
      "_model_module": "@jupyter-widgets/controls",
      "_model_module_version": "1.5.0",
      "_model_name": "HTMLModel",
      "_view_count": null,
      "_view_module": "@jupyter-widgets/controls",
      "_view_module_version": "1.5.0",
      "_view_name": "HTMLView",
      "description": "",
      "description_tooltip": null,
      "layout": "IPY_MODEL_896a7e8779fb47949e1bdbd870341bee",
      "placeholder": "​",
      "style": "IPY_MODEL_a9f8cdaeb6184b9bb3c56e1a72aeb824",
      "value": " 172/200 [2:04:41&lt;20:01, 42.92s/it]"
     }
    },
    "7f8c5744c6464e1f806b0ac2672c3564": {
     "model_module": "@jupyter-widgets/base",
     "model_name": "LayoutModel",
     "model_module_version": "1.2.0",
     "state": {
      "_model_module": "@jupyter-widgets/base",
      "_model_module_version": "1.2.0",
      "_model_name": "LayoutModel",
      "_view_count": null,
      "_view_module": "@jupyter-widgets/base",
      "_view_module_version": "1.2.0",
      "_view_name": "LayoutView",
      "align_content": null,
      "align_items": null,
      "align_self": null,
      "border": null,
      "bottom": null,
      "display": null,
      "flex": null,
      "flex_flow": null,
      "grid_area": null,
      "grid_auto_columns": null,
      "grid_auto_flow": null,
      "grid_auto_rows": null,
      "grid_column": null,
      "grid_gap": null,
      "grid_row": null,
      "grid_template_areas": null,
      "grid_template_columns": null,
      "grid_template_rows": null,
      "height": null,
      "justify_content": null,
      "justify_items": null,
      "left": null,
      "margin": null,
      "max_height": null,
      "max_width": null,
      "min_height": null,
      "min_width": null,
      "object_fit": null,
      "object_position": null,
      "order": null,
      "overflow": null,
      "overflow_x": null,
      "overflow_y": null,
      "padding": null,
      "right": null,
      "top": null,
      "visibility": null,
      "width": null
     }
    },
    "61cb2b09938a406ca735367e4fe94455": {
     "model_module": "@jupyter-widgets/base",
     "model_name": "LayoutModel",
     "model_module_version": "1.2.0",
     "state": {
      "_model_module": "@jupyter-widgets/base",
      "_model_module_version": "1.2.0",
      "_model_name": "LayoutModel",
      "_view_count": null,
      "_view_module": "@jupyter-widgets/base",
      "_view_module_version": "1.2.0",
      "_view_name": "LayoutView",
      "align_content": null,
      "align_items": null,
      "align_self": null,
      "border": null,
      "bottom": null,
      "display": null,
      "flex": null,
      "flex_flow": null,
      "grid_area": null,
      "grid_auto_columns": null,
      "grid_auto_flow": null,
      "grid_auto_rows": null,
      "grid_column": null,
      "grid_gap": null,
      "grid_row": null,
      "grid_template_areas": null,
      "grid_template_columns": null,
      "grid_template_rows": null,
      "height": null,
      "justify_content": null,
      "justify_items": null,
      "left": null,
      "margin": null,
      "max_height": null,
      "max_width": null,
      "min_height": null,
      "min_width": null,
      "object_fit": null,
      "object_position": null,
      "order": null,
      "overflow": null,
      "overflow_x": null,
      "overflow_y": null,
      "padding": null,
      "right": null,
      "top": null,
      "visibility": null,
      "width": null
     }
    },
    "77a7cb01df784fde8ab76a4a7b77d1ad": {
     "model_module": "@jupyter-widgets/controls",
     "model_name": "DescriptionStyleModel",
     "model_module_version": "1.5.0",
     "state": {
      "_model_module": "@jupyter-widgets/controls",
      "_model_module_version": "1.5.0",
      "_model_name": "DescriptionStyleModel",
      "_view_count": null,
      "_view_module": "@jupyter-widgets/base",
      "_view_module_version": "1.2.0",
      "_view_name": "StyleView",
      "description_width": ""
     }
    },
    "9b4fd5e48cb34adaaa62abe6f480f2f6": {
     "model_module": "@jupyter-widgets/base",
     "model_name": "LayoutModel",
     "model_module_version": "1.2.0",
     "state": {
      "_model_module": "@jupyter-widgets/base",
      "_model_module_version": "1.2.0",
      "_model_name": "LayoutModel",
      "_view_count": null,
      "_view_module": "@jupyter-widgets/base",
      "_view_module_version": "1.2.0",
      "_view_name": "LayoutView",
      "align_content": null,
      "align_items": null,
      "align_self": null,
      "border": null,
      "bottom": null,
      "display": null,
      "flex": null,
      "flex_flow": null,
      "grid_area": null,
      "grid_auto_columns": null,
      "grid_auto_flow": null,
      "grid_auto_rows": null,
      "grid_column": null,
      "grid_gap": null,
      "grid_row": null,
      "grid_template_areas": null,
      "grid_template_columns": null,
      "grid_template_rows": null,
      "height": null,
      "justify_content": null,
      "justify_items": null,
      "left": null,
      "margin": null,
      "max_height": null,
      "max_width": null,
      "min_height": null,
      "min_width": null,
      "object_fit": null,
      "object_position": null,
      "order": null,
      "overflow": null,
      "overflow_x": null,
      "overflow_y": null,
      "padding": null,
      "right": null,
      "top": null,
      "visibility": null,
      "width": null
     }
    },
    "0de96dda6ccc4d0fbd7e0e2e3383c7b0": {
     "model_module": "@jupyter-widgets/controls",
     "model_name": "ProgressStyleModel",
     "model_module_version": "1.5.0",
     "state": {
      "_model_module": "@jupyter-widgets/controls",
      "_model_module_version": "1.5.0",
      "_model_name": "ProgressStyleModel",
      "_view_count": null,
      "_view_module": "@jupyter-widgets/base",
      "_view_module_version": "1.2.0",
      "_view_name": "StyleView",
      "bar_color": null,
      "description_width": ""
     }
    },
    "896a7e8779fb47949e1bdbd870341bee": {
     "model_module": "@jupyter-widgets/base",
     "model_name": "LayoutModel",
     "model_module_version": "1.2.0",
     "state": {
      "_model_module": "@jupyter-widgets/base",
      "_model_module_version": "1.2.0",
      "_model_name": "LayoutModel",
      "_view_count": null,
      "_view_module": "@jupyter-widgets/base",
      "_view_module_version": "1.2.0",
      "_view_name": "LayoutView",
      "align_content": null,
      "align_items": null,
      "align_self": null,
      "border": null,
      "bottom": null,
      "display": null,
      "flex": null,
      "flex_flow": null,
      "grid_area": null,
      "grid_auto_columns": null,
      "grid_auto_flow": null,
      "grid_auto_rows": null,
      "grid_column": null,
      "grid_gap": null,
      "grid_row": null,
      "grid_template_areas": null,
      "grid_template_columns": null,
      "grid_template_rows": null,
      "height": null,
      "justify_content": null,
      "justify_items": null,
      "left": null,
      "margin": null,
      "max_height": null,
      "max_width": null,
      "min_height": null,
      "min_width": null,
      "object_fit": null,
      "object_position": null,
      "order": null,
      "overflow": null,
      "overflow_x": null,
      "overflow_y": null,
      "padding": null,
      "right": null,
      "top": null,
      "visibility": null,
      "width": null
     }
    },
    "a9f8cdaeb6184b9bb3c56e1a72aeb824": {
     "model_module": "@jupyter-widgets/controls",
     "model_name": "DescriptionStyleModel",
     "model_module_version": "1.5.0",
     "state": {
      "_model_module": "@jupyter-widgets/controls",
      "_model_module_version": "1.5.0",
      "_model_name": "DescriptionStyleModel",
      "_view_count": null,
      "_view_module": "@jupyter-widgets/base",
      "_view_module_version": "1.2.0",
      "_view_name": "StyleView",
      "description_width": ""
     }
    }
   }
  }
 },
 "cells": [
  {
   "cell_type": "code",
   "source": [
    "!unzip /content/going_modular.zip -d /content/going_modular\n",
    "!unzip /content/Dataset.zip -d /content/Dataset"
   ],
   "metadata": {
    "id": "1Ah7dRCW7QAA"
   },
   "execution_count": null,
   "outputs": []
  },
  {
   "cell_type": "code",
   "source": [
    "!pip install einops"
   ],
   "metadata": {
    "colab": {
     "base_uri": "https://localhost:8080/"
    },
    "id": "zNXKj1tMKiOR",
    "outputId": "17a4f0b6-8b40-4ce7-9bdd-274f8ac20df2"
   },
   "execution_count": null,
   "outputs": [
    {
     "output_type": "stream",
     "name": "stdout",
     "text": [
      "Collecting einops\n",
      "  Downloading einops-0.7.0-py3-none-any.whl (44 kB)\n",
      "\u001B[2K     \u001B[90m━━━━━━━━━━━━━━━━━━━━━━━━━━━━━━━━━━━━━━━━\u001B[0m \u001B[32m44.6/44.6 kB\u001B[0m \u001B[31m963.6 kB/s\u001B[0m eta \u001B[36m0:00:00\u001B[0m\n",
      "\u001B[?25hInstalling collected packages: einops\n",
      "Successfully installed einops-0.7.0\n"
     ]
    }
   ]
  },
  {
   "cell_type": "code",
   "execution_count": null,
   "metadata": {
    "id": "cKqgNCS95ypK"
   },
   "outputs": [],
   "source": [
    "import torch\n",
    "from torch import nn\n",
    "\n",
    "from einops import rearrange, repeat\n",
    "from einops.layers.torch import Rearrange\n",
    "\n",
    "\n",
    "# helpers\n",
    "\n",
    "def pair(t):\n",
    "    return t if isinstance(t, tuple) else (t, t)\n",
    "\n",
    "\n",
    "# classes\n",
    "\n",
    "class FeedForward(nn.Module):\n",
    "    def __init__(self, dim, hidden_dim, dropout=0.):\n",
    "        super().__init__()\n",
    "        self.net = nn.Sequential(\n",
    "            nn.LayerNorm(dim),\n",
    "            nn.Linear(dim, hidden_dim),\n",
    "            nn.GELU(),\n",
    "            nn.Dropout(dropout),\n",
    "            nn.Linear(hidden_dim, dim),\n",
    "            nn.Dropout(dropout)\n",
    "        )\n",
    "\n",
    "    def forward(self, x):\n",
    "        return self.net(x)\n",
    "\n",
    "\n",
    "class Attention(nn.Module):\n",
    "    def __init__(self, dim, heads=8, dim_head=64, dropout=0.):\n",
    "        super().__init__()\n",
    "        inner_dim = dim_head * heads\n",
    "        project_out = not (heads == 1 and dim_head == dim)\n",
    "\n",
    "        self.heads = heads\n",
    "        self.scale = dim_head ** -0.5\n",
    "\n",
    "        self.norm = nn.LayerNorm(dim)\n",
    "\n",
    "        self.attend = nn.Softmax(dim=-1)\n",
    "        self.dropout = nn.Dropout(dropout)\n",
    "\n",
    "        self.to_qkv = nn.Linear(dim, inner_dim * 3, bias=False)\n",
    "\n",
    "        self.to_out = nn.Sequential(\n",
    "            nn.Linear(inner_dim, dim),\n",
    "            nn.Dropout(dropout)\n",
    "        ) if project_out else nn.Identity()\n",
    "\n",
    "    def forward(self, x):\n",
    "        x = self.norm(x)\n",
    "\n",
    "        qkv = self.to_qkv(x).chunk(3, dim=-1)\n",
    "        q, k, v = map(lambda t: rearrange(t, 'b n (h d) -> b h n d', h=self.heads), qkv)\n",
    "\n",
    "        dots = torch.matmul(q, k.transpose(-1, -2)) * self.scale\n",
    "\n",
    "        attn = self.attend(dots)\n",
    "        attn = self.dropout(attn)\n",
    "\n",
    "        out = torch.matmul(attn, v)\n",
    "        out = rearrange(out, 'b h n d -> b n (h d)')\n",
    "        return self.to_out(out)\n",
    "\n",
    "\n",
    "class Transformer(nn.Module):\n",
    "    def __init__(self, dim, depth, heads, dim_head, mlp_dim, dropout=0.):\n",
    "        super().__init__()\n",
    "        self.norm = nn.LayerNorm(dim)\n",
    "        self.layers = nn.ModuleList([])\n",
    "        for _ in range(depth):\n",
    "            self.layers.append(nn.ModuleList([\n",
    "                Attention(dim, heads=heads, dim_head=dim_head, dropout=dropout),\n",
    "                FeedForward(dim, mlp_dim, dropout=dropout)\n",
    "            ]))\n",
    "\n",
    "    def forward(self, x):\n",
    "        for attn, ff in self.layers:\n",
    "            x = attn(x) + x\n",
    "            x = ff(x) + x\n",
    "\n",
    "        return self.norm(x)\n",
    "\n",
    "\n",
    "class ViT(nn.Module):\n",
    "    def __init__(self, *, image_size, patch_size, num_classes, dim, depth, heads, mlp_dim, pool='cls', channels=3,\n",
    "                 dim_head=64, dropout=0., emb_dropout=0.):\n",
    "        super().__init__()\n",
    "        image_height, image_width = pair(image_size)\n",
    "        patch_height, patch_width = pair(patch_size)\n",
    "\n",
    "        assert image_height % patch_height == 0 and image_width % patch_width == 0, 'Image dimensions must be divisible by the patch size.'\n",
    "\n",
    "        num_patches = (image_height // patch_height) * (image_width // patch_width)\n",
    "        patch_dim = channels * patch_height * patch_width\n",
    "        assert pool in {'cls', 'mean'}, 'pool type must be either cls (cls token) or mean (mean pooling)'\n",
    "\n",
    "        self.to_patch_embedding = nn.Sequential(\n",
    "            Rearrange('b c (h p1) (w p2) -> b (h w) (p1 p2 c)', p1=patch_height, p2=patch_width),\n",
    "            nn.LayerNorm(patch_dim),\n",
    "            nn.Linear(patch_dim, dim),\n",
    "            nn.LayerNorm(dim),\n",
    "        )\n",
    "\n",
    "        self.pos_embedding = nn.Parameter(torch.randn(1, num_patches + 1, dim))\n",
    "        self.cls_token = nn.Parameter(torch.randn(1, 1, dim))\n",
    "        self.dropout = nn.Dropout(emb_dropout)\n",
    "\n",
    "        self.transformer = Transformer(dim, depth, heads, dim_head, mlp_dim, dropout)\n",
    "\n",
    "        self.pool = pool\n",
    "        self.to_latent = nn.Identity()\n",
    "\n",
    "        self.mlp_head = nn.Linear(dim, num_classes)\n",
    "\n",
    "    def forward(self, img):\n",
    "        x = self.to_patch_embedding(img)\n",
    "        b, n, _ = x.shape\n",
    "\n",
    "        cls_tokens = repeat(self.cls_token, '1 1 d -> b 1 d', b=b)\n",
    "        x = torch.cat((cls_tokens, x), dim=1)\n",
    "        x += self.pos_embedding[:, :(n + 1)]\n",
    "        x = self.dropout(x)\n",
    "\n",
    "        x = self.transformer(x)\n",
    "\n",
    "        x = x.mean(dim=1) if self.pool == 'mean' else x[:, 0]\n",
    "\n",
    "        x = self.to_latent(x)\n",
    "        return self.mlp_head(x)\n"
   ]
  },
  {
   "cell_type": "code",
   "source": [
    "import matplotlib.pyplot as plt"
   ],
   "metadata": {
    "id": "hdtzM6fPI8sM"
   },
   "execution_count": null,
   "outputs": []
  },
  {
   "cell_type": "code",
   "source": [
    "train_dir = \"Dataset/Train\"\n",
    "test_dir = \"Dataset/Test\""
   ],
   "metadata": {
    "id": "HkoT9ADhJLxN"
   },
   "execution_count": null,
   "outputs": []
  },
  {
   "cell_type": "code",
   "source": [
    "import os\n",
    "\n",
    "from torchvision import datasets, transforms\n",
    "from torch.utils.data import DataLoader\n",
    "\n",
    "NUM_WORKERS = os.cpu_count()\n",
    "\n",
    "def create_dataloaders(\n",
    "    train_dir: str,\n",
    "    test_dir: str,\n",
    "    transform: transforms.Compose,\n",
    "    batch_size: int,\n",
    "    num_workers: int=NUM_WORKERS\n",
    "):\n",
    "\n",
    "  # Use ImageFolder to create dataset(s)\n",
    "  train_data = datasets.ImageFolder(train_dir, transform=transform)\n",
    "  test_data = datasets.ImageFolder(test_dir, transform=transform)\n",
    "\n",
    "  # Get class names\n",
    "  class_names = train_data.classes\n",
    "\n",
    "  # Turn images into data loaders\n",
    "  train_dataloader = DataLoader(\n",
    "      train_data,\n",
    "      batch_size=batch_size,\n",
    "      shuffle=True,\n",
    "      num_workers=num_workers,\n",
    "      pin_memory=True,\n",
    "  )\n",
    "  test_dataloader = DataLoader(\n",
    "      test_data,\n",
    "      batch_size=batch_size,\n",
    "      shuffle=False,\n",
    "      num_workers=num_workers,\n",
    "      pin_memory=True,\n",
    "  )\n",
    "\n",
    "  return train_dataloader, test_dataloader, class_names"
   ],
   "metadata": {
    "id": "zOQdfs8eJfB3"
   },
   "execution_count": null,
   "outputs": []
  },
  {
   "cell_type": "code",
   "source": [
    "# Create image size\n",
    "IMG_SIZE = 224\n",
    "\n",
    "# Create transform pipeline manually\n",
    "manual_transforms = transforms.Compose([\n",
    "    transforms.Resize((IMG_SIZE, IMG_SIZE)),\n",
    "    transforms.ToTensor(),\n",
    "])\n",
    "print(f\"Manually created transforms: {manual_transforms}\")"
   ],
   "metadata": {
    "colab": {
     "base_uri": "https://localhost:8080/"
    },
    "id": "L-70DQSZJhEr",
    "outputId": "4c470473-9107-4b15-e90c-fe67896db0ca"
   },
   "execution_count": null,
   "outputs": [
    {
     "output_type": "stream",
     "name": "stdout",
     "text": [
      "Manually created transforms: Compose(\n",
      "    Resize(size=(224, 224), interpolation=bilinear, max_size=None, antialias=warn)\n",
      "    ToTensor()\n",
      ")\n"
     ]
    }
   ]
  },
  {
   "cell_type": "code",
   "source": [
    "# Set the batch size\n",
    "BATCH_SIZE = 32\n",
    "\n",
    "# Create data loaders\n",
    "train_dataloader, test_dataloader, class_names = create_dataloaders(\n",
    "    train_dir=train_dir,\n",
    "    test_dir=test_dir,\n",
    "    transform=manual_transforms,\n",
    "    batch_size=BATCH_SIZE\n",
    ")\n",
    "\n",
    "train_dataloader, test_dataloader, class_names"
   ],
   "metadata": {
    "colab": {
     "base_uri": "https://localhost:8080/"
    },
    "id": "igR2Yj6gJkxE",
    "outputId": "9abd653a-0470-450a-b3a0-99c75ba98c31"
   },
   "execution_count": null,
   "outputs": [
    {
     "output_type": "execute_result",
     "data": {
      "text/plain": [
       "(<torch.utils.data.dataloader.DataLoader at 0x7ea83df0e740>,\n",
       " <torch.utils.data.dataloader.DataLoader at 0x7ea83df0e950>,\n",
       " ['COVID', 'non-COVID'])"
      ]
     },
     "metadata": {},
     "execution_count": 28
    }
   ]
  },
  {
   "cell_type": "code",
   "source": [
    "# Let's visualize a image in order to know if data is loaded properly or not\n",
    "\n",
    "# Get a batch of images\n",
    "image_batch, label_batch = next(iter(train_dataloader))\n",
    "\n",
    "# Get a single image from the batch\n",
    "image, label = image_batch[0], label_batch[0]\n",
    "\n",
    "# View the batch shapes\n",
    "print(image.shape, label)\n",
    "\n",
    "# Plot image with matplotlib\n",
    "plt.imshow(image.permute(1, 2, 0)) # rearrange image dimensions to suit matplotlib [color_channels, height, width] -> [height, width, color_channels]\n",
    "plt.title(class_names[label])\n",
    "plt.axis(False);"
   ],
   "metadata": {
    "colab": {
     "base_uri": "https://localhost:8080/",
     "height": 445
    },
    "id": "3gfqUsAiJ1Wv",
    "outputId": "e39cb65f-0b20-4ffc-8151-04e6e9341a0d"
   },
   "execution_count": null,
   "outputs": [
    {
     "output_type": "stream",
     "name": "stdout",
     "text": [
      "torch.Size([3, 224, 224]) tensor(0)\n"
     ]
    },
    {
     "output_type": "display_data",
     "data": {
      "text/plain": [
       "<Figure size 640x480 with 1 Axes>"
      ],
      "image/png": "[encoded data removed]"
     },
     "metadata": {}
    }
   ]
  },
  {
   "cell_type": "code",
   "source": [
    "device = \"cuda\" if torch.cuda.is_available() else \"cpu\"\n",
    "device"
   ],
   "metadata": {
    "colab": {
     "base_uri": "https://localhost:8080/",
     "height": 36
    },
    "id": "5R2hGxHVKK-a",
    "outputId": "ffe303c4-a484-41d3-f570-e7654a677e32"
   },
   "execution_count": null,
   "outputs": [
    {
     "output_type": "execute_result",
     "data": {
      "text/plain": [
       "'cuda'"
      ],
      "application/vnd.google.colaboratory.intrinsic+json": {
       "type": "string"
      }
     },
     "metadata": {},
     "execution_count": 30
    }
   ]
  },
  {
   "cell_type": "code",
   "source": [
    "def set_seeds(seed: int=42):\n",
    "    \"\"\"Sets random sets for torch operations.\n",
    "\n",
    "    Args:\n",
    "        seed (int, optional): Random seed to set. Defaults to 42.\n",
    "    \"\"\"\n",
    "    # Set the seed for general torch operations\n",
    "    torch.manual_seed(seed)\n",
    "    # Set the seed for CUDA torch operations (ones that happen on the GPU)\n",
    "    torch.cuda.manual_seed(seed)"
   ],
   "metadata": {
    "id": "X1KzA-ZuKMiq"
   },
   "execution_count": null,
   "outputs": []
  },
  {
   "cell_type": "code",
   "source": [
    "vit = ViT(\n",
    "    image_size=224,\n",
    "    patch_size=16,\n",
    "    num_classes=2,\n",
    "    dim=1024,\n",
    "    depth=6,\n",
    "    heads=16,\n",
    "    mlp_dim=2048,\n",
    "    dropout=0.1,\n",
    "    emb_dropout=0.1\n",
    ")"
   ],
   "metadata": {
    "id": "egqi3riYKOpC"
   },
   "execution_count": null,
   "outputs": []
  },
  {
   "cell_type": "code",
   "source": [
    "from going_modular import engine\n",
    "# Setup the optimizer to optimize our ViT model parameters using hyperparameters from the ViT paper\n",
    "optimizer = torch.optim.Adam(params=vit.parameters(),\n",
    "                             lr=3e-3, # Base LR from Table 3 for ViT-* ImageNet-1k\n",
    "                             betas=(0.9, 0.999), # default values but also mentioned in ViT paper section 4.1 (Training & Fine-tuning)\n",
    "                             weight_decay=0.3) # from the ViT paper section 4.1 (Training & Fine-tuning) and Table 3 for ViT-* ImageNet-1k\n",
    "\n",
    "# Setup the loss function for multi-class classification\n",
    "loss_fn = torch.nn.CrossEntropyLoss()\n",
    "\n",
    "# Set the seeds\n",
    "set_seeds()\n",
    "\n",
    "# Train the model and save the training results to a dictionary\n",
    "results = engine.train(model=vit,\n",
    "                       train_dataloader=train_dataloader,\n",
    "                       test_dataloader=test_dataloader,\n",
    "                       optimizer=optimizer,\n",
    "                       loss_fn=loss_fn,\n",
    "                       epochs=200,\n",
    "                       device=device)"
   ],
   "metadata": {
    "colab": {
     "base_uri": "https://localhost:8080/",
     "height": 1000,
     "referenced_widgets": [
      "84bbd55cb2074c4e89eb1e5a90640ea7",
      "241a206d66a44dbfb5d6d4cb6cd91ce4",
      "e4eb72c51938475bbb022e9a00977f4d",
      "c69f43e6a3974a46bebb97a47db2e547",
      "7f8c5744c6464e1f806b0ac2672c3564",
      "61cb2b09938a406ca735367e4fe94455",
      "77a7cb01df784fde8ab76a4a7b77d1ad",
      "9b4fd5e48cb34adaaa62abe6f480f2f6",
      "0de96dda6ccc4d0fbd7e0e2e3383c7b0",
      "896a7e8779fb47949e1bdbd870341bee",
      "a9f8cdaeb6184b9bb3c56e1a72aeb824"
     ]
    },
    "id": "nGID647WKUfh",
    "outputId": "c30c0b22-3e47-443f-a3d9-e33c744e5f2d"
   },
   "execution_count": null,
   "outputs": [
    {
     "output_type": "display_data",
     "data": {
      "text/plain": [
       "  0%|          | 0/200 [00:00<?, ?it/s]"
      ],
      "application/vnd.jupyter.widget-view+json": {
       "version_major": 2,
       "version_minor": 0,
       "model_id": "84bbd55cb2074c4e89eb1e5a90640ea7"
      }
     },
     "metadata": {}
    },
    {
     "output_type": "stream",
     "name": "stdout",
     "text": [
      "Epoch: 1 | train_loss: 0.6932 | train_acc: 0.4960 | test_loss: 0.6933 | test_acc: 0.4902\n",
      "Epoch: 2 | train_loss: 0.6932 | train_acc: 0.5045 | test_loss: 0.6933 | test_acc: 0.4902\n",
      "Epoch: 3 | train_loss: 0.6932 | train_acc: 0.5045 | test_loss: 0.6932 | test_acc: 0.4902\n",
      "Epoch: 4 | train_loss: 0.6934 | train_acc: 0.4950 | test_loss: 0.6933 | test_acc: 0.4902\n",
      "Epoch: 5 | train_loss: 0.6933 | train_acc: 0.5045 | test_loss: 0.6932 | test_acc: 0.4902\n",
      "Epoch: 6 | train_loss: 0.6933 | train_acc: 0.4844 | test_loss: 0.6932 | test_acc: 0.4902\n",
      "Epoch: 7 | train_loss: 0.6932 | train_acc: 0.5045 | test_loss: 0.6933 | test_acc: 0.4902\n",
      "Epoch: 8 | train_loss: 0.6932 | train_acc: 0.5045 | test_loss: 0.6934 | test_acc: 0.4902\n",
      "Epoch: 9 | train_loss: 0.6932 | train_acc: 0.5055 | test_loss: 0.6931 | test_acc: 0.5098\n",
      "Epoch: 10 | train_loss: 0.6935 | train_acc: 0.4955 | test_loss: 0.6933 | test_acc: 0.4902\n",
      "Epoch: 11 | train_loss: 0.6933 | train_acc: 0.4985 | test_loss: 0.6933 | test_acc: 0.4902\n",
      "Epoch: 12 | train_loss: 0.6938 | train_acc: 0.4814 | test_loss: 0.6935 | test_acc: 0.4902\n",
      "Epoch: 13 | train_loss: 0.6938 | train_acc: 0.4960 | test_loss: 0.6931 | test_acc: 0.5098\n",
      "Epoch: 14 | train_loss: 0.6936 | train_acc: 0.5030 | test_loss: 0.6933 | test_acc: 0.4902\n",
      "Epoch: 15 | train_loss: 0.6933 | train_acc: 0.4990 | test_loss: 0.6930 | test_acc: 0.5098\n",
      "Epoch: 16 | train_loss: 0.6936 | train_acc: 0.4990 | test_loss: 0.6931 | test_acc: 0.4902\n",
      "Epoch: 17 | train_loss: 0.6935 | train_acc: 0.4914 | test_loss: 0.6934 | test_acc: 0.4902\n",
      "Epoch: 18 | train_loss: 0.6938 | train_acc: 0.5000 | test_loss: 0.6937 | test_acc: 0.4902\n",
      "Epoch: 19 | train_loss: 0.6939 | train_acc: 0.4859 | test_loss: 0.6933 | test_acc: 0.4902\n",
      "Epoch: 20 | train_loss: 0.6934 | train_acc: 0.5015 | test_loss: 0.6936 | test_acc: 0.4902\n",
      "Epoch: 21 | train_loss: 0.6934 | train_acc: 0.4940 | test_loss: 0.6942 | test_acc: 0.4902\n",
      "Epoch: 22 | train_loss: 0.6936 | train_acc: 0.5015 | test_loss: 0.6938 | test_acc: 0.4902\n",
      "Epoch: 23 | train_loss: 0.6934 | train_acc: 0.5010 | test_loss: 0.6933 | test_acc: 0.4902\n",
      "Epoch: 24 | train_loss: 0.6941 | train_acc: 0.4733 | test_loss: 0.6935 | test_acc: 0.4902\n",
      "Epoch: 25 | train_loss: 0.6934 | train_acc: 0.5020 | test_loss: 0.6932 | test_acc: 0.4902\n",
      "Epoch: 26 | train_loss: 0.6936 | train_acc: 0.5060 | test_loss: 0.6931 | test_acc: 0.5098\n",
      "Epoch: 27 | train_loss: 0.6934 | train_acc: 0.4844 | test_loss: 0.6931 | test_acc: 0.5098\n",
      "Epoch: 28 | train_loss: 0.6934 | train_acc: 0.5060 | test_loss: 0.6934 | test_acc: 0.4902\n",
      "Epoch: 29 | train_loss: 0.6938 | train_acc: 0.5015 | test_loss: 0.6933 | test_acc: 0.4902\n",
      "Epoch: 30 | train_loss: 0.6935 | train_acc: 0.5066 | test_loss: 0.6934 | test_acc: 0.4902\n",
      "Epoch: 31 | train_loss: 0.6932 | train_acc: 0.5050 | test_loss: 0.6933 | test_acc: 0.4902\n",
      "Epoch: 32 | train_loss: 0.6934 | train_acc: 0.5050 | test_loss: 0.6932 | test_acc: 0.4902\n",
      "Epoch: 33 | train_loss: 0.6939 | train_acc: 0.4904 | test_loss: 0.6951 | test_acc: 0.4902\n",
      "Epoch: 34 | train_loss: 0.6932 | train_acc: 0.4960 | test_loss: 0.7022 | test_acc: 0.4902\n",
      "Epoch: 35 | train_loss: 0.6947 | train_acc: 0.5040 | test_loss: 0.6930 | test_acc: 0.5098\n",
      "Epoch: 36 | train_loss: 0.6935 | train_acc: 0.4950 | test_loss: 0.6933 | test_acc: 0.4902\n",
      "Epoch: 37 | train_loss: 0.6935 | train_acc: 0.4945 | test_loss: 0.6940 | test_acc: 0.4902\n",
      "Epoch: 38 | train_loss: 0.6934 | train_acc: 0.5081 | test_loss: 0.6932 | test_acc: 0.4902\n",
      "Epoch: 39 | train_loss: 0.6933 | train_acc: 0.5156 | test_loss: 0.6931 | test_acc: 0.5098\n",
      "Epoch: 40 | train_loss: 0.6937 | train_acc: 0.5020 | test_loss: 0.6932 | test_acc: 0.4902\n",
      "Epoch: 41 | train_loss: 0.6937 | train_acc: 0.5126 | test_loss: 0.6936 | test_acc: 0.4902\n",
      "Epoch: 42 | train_loss: 0.6939 | train_acc: 0.4904 | test_loss: 0.6935 | test_acc: 0.4902\n",
      "Epoch: 43 | train_loss: 0.6934 | train_acc: 0.4985 | test_loss: 0.6933 | test_acc: 0.4902\n",
      "Epoch: 44 | train_loss: 0.6939 | train_acc: 0.5066 | test_loss: 0.6930 | test_acc: 0.5098\n",
      "Epoch: 45 | train_loss: 0.6934 | train_acc: 0.5121 | test_loss: 0.6933 | test_acc: 0.4902\n",
      "Epoch: 46 | train_loss: 0.6934 | train_acc: 0.4919 | test_loss: 0.6974 | test_acc: 0.4902\n",
      "Epoch: 47 | train_loss: 0.6937 | train_acc: 0.4945 | test_loss: 0.6930 | test_acc: 0.5098\n",
      "Epoch: 48 | train_loss: 0.6940 | train_acc: 0.5055 | test_loss: 0.6930 | test_acc: 0.5098\n",
      "Epoch: 49 | train_loss: 0.6939 | train_acc: 0.5055 | test_loss: 0.6932 | test_acc: 0.4902\n",
      "Epoch: 50 | train_loss: 0.6937 | train_acc: 0.4919 | test_loss: 0.6935 | test_acc: 0.4902\n",
      "Epoch: 51 | train_loss: 0.6934 | train_acc: 0.5060 | test_loss: 0.6934 | test_acc: 0.4902\n",
      "Epoch: 52 | train_loss: 0.6937 | train_acc: 0.4970 | test_loss: 0.6933 | test_acc: 0.4902\n",
      "Epoch: 53 | train_loss: 0.6934 | train_acc: 0.4995 | test_loss: 0.6930 | test_acc: 0.5098\n",
      "Epoch: 54 | train_loss: 0.6937 | train_acc: 0.5045 | test_loss: 0.6956 | test_acc: 0.4902\n",
      "Epoch: 55 | train_loss: 0.6935 | train_acc: 0.5035 | test_loss: 0.6931 | test_acc: 0.5098\n",
      "Epoch: 56 | train_loss: 0.6932 | train_acc: 0.5055 | test_loss: 0.6931 | test_acc: 0.5098\n",
      "Epoch: 57 | train_loss: 0.6934 | train_acc: 0.4798 | test_loss: 0.6977 | test_acc: 0.4902\n",
      "Epoch: 58 | train_loss: 0.6936 | train_acc: 0.5025 | test_loss: 0.6933 | test_acc: 0.4902\n",
      "Epoch: 59 | train_loss: 0.6936 | train_acc: 0.5035 | test_loss: 0.6936 | test_acc: 0.4902\n",
      "Epoch: 60 | train_loss: 0.6935 | train_acc: 0.4914 | test_loss: 0.6933 | test_acc: 0.4902\n",
      "Epoch: 61 | train_loss: 0.6935 | train_acc: 0.4929 | test_loss: 0.6932 | test_acc: 0.4902\n",
      "Epoch: 62 | train_loss: 0.6942 | train_acc: 0.5066 | test_loss: 0.6931 | test_acc: 0.5098\n",
      "Epoch: 63 | train_loss: 0.6939 | train_acc: 0.4924 | test_loss: 0.6935 | test_acc: 0.4902\n",
      "Epoch: 64 | train_loss: 0.6941 | train_acc: 0.5050 | test_loss: 0.6938 | test_acc: 0.5098\n",
      "Epoch: 65 | train_loss: 0.6933 | train_acc: 0.5040 | test_loss: 0.6931 | test_acc: 0.5098\n",
      "Epoch: 66 | train_loss: 0.6934 | train_acc: 0.5010 | test_loss: 0.6943 | test_acc: 0.4902\n",
      "Epoch: 67 | train_loss: 0.6962 | train_acc: 0.4975 | test_loss: 0.6930 | test_acc: 0.5098\n",
      "Epoch: 68 | train_loss: 0.6937 | train_acc: 0.4965 | test_loss: 0.6942 | test_acc: 0.4902\n",
      "Epoch: 69 | train_loss: 0.6934 | train_acc: 0.5045 | test_loss: 0.6933 | test_acc: 0.4902\n",
      "Epoch: 70 | train_loss: 0.6938 | train_acc: 0.4975 | test_loss: 0.6931 | test_acc: 0.5098\n",
      "Epoch: 71 | train_loss: 0.6941 | train_acc: 0.4990 | test_loss: 0.6931 | test_acc: 0.5098\n",
      "Epoch: 72 | train_loss: 0.6934 | train_acc: 0.4980 | test_loss: 0.6932 | test_acc: 0.4902\n",
      "Epoch: 73 | train_loss: 0.6935 | train_acc: 0.5005 | test_loss: 0.6934 | test_acc: 0.4902\n",
      "Epoch: 74 | train_loss: 0.6937 | train_acc: 0.4879 | test_loss: 0.6935 | test_acc: 0.4902\n",
      "Epoch: 75 | train_loss: 0.6938 | train_acc: 0.4995 | test_loss: 0.6935 | test_acc: 0.4902\n",
      "Epoch: 76 | train_loss: 0.6934 | train_acc: 0.4985 | test_loss: 0.6940 | test_acc: 0.4902\n",
      "Epoch: 77 | train_loss: 0.6935 | train_acc: 0.4889 | test_loss: 0.6932 | test_acc: 0.4902\n",
      "Epoch: 78 | train_loss: 0.6942 | train_acc: 0.4985 | test_loss: 0.6932 | test_acc: 0.4902\n",
      "Epoch: 79 | train_loss: 0.6938 | train_acc: 0.5015 | test_loss: 0.6932 | test_acc: 0.4902\n",
      "Epoch: 80 | train_loss: 0.6940 | train_acc: 0.4945 | test_loss: 0.6933 | test_acc: 0.4902\n",
      "Epoch: 81 | train_loss: 0.6934 | train_acc: 0.5020 | test_loss: 0.6933 | test_acc: 0.4902\n",
      "Epoch: 82 | train_loss: 0.6939 | train_acc: 0.4849 | test_loss: 0.6932 | test_acc: 0.4902\n",
      "Epoch: 83 | train_loss: 0.6937 | train_acc: 0.4924 | test_loss: 0.6931 | test_acc: 0.5098\n",
      "Epoch: 84 | train_loss: 0.6934 | train_acc: 0.4934 | test_loss: 0.6933 | test_acc: 0.4902\n",
      "Epoch: 85 | train_loss: 0.6933 | train_acc: 0.4990 | test_loss: 0.6932 | test_acc: 0.4902\n",
      "Epoch: 86 | train_loss: 0.6935 | train_acc: 0.4904 | test_loss: 0.6932 | test_acc: 0.4902\n",
      "Epoch: 87 | train_loss: 0.6932 | train_acc: 0.5005 | test_loss: 0.6982 | test_acc: 0.4902\n",
      "Epoch: 88 | train_loss: 0.6942 | train_acc: 0.4884 | test_loss: 0.6932 | test_acc: 0.4902\n",
      "Epoch: 89 | train_loss: 0.6936 | train_acc: 0.5025 | test_loss: 0.6935 | test_acc: 0.4902\n",
      "Epoch: 90 | train_loss: 0.6936 | train_acc: 0.4965 | test_loss: 0.6934 | test_acc: 0.4902\n",
      "Epoch: 91 | train_loss: 0.6935 | train_acc: 0.4929 | test_loss: 0.6939 | test_acc: 0.4902\n",
      "Epoch: 92 | train_loss: 0.6936 | train_acc: 0.4849 | test_loss: 0.6932 | test_acc: 0.4902\n",
      "Epoch: 93 | train_loss: 0.6935 | train_acc: 0.4995 | test_loss: 0.6932 | test_acc: 0.4902\n",
      "Epoch: 94 | train_loss: 0.6932 | train_acc: 0.5045 | test_loss: 0.6931 | test_acc: 0.5098\n",
      "Epoch: 95 | train_loss: 0.6932 | train_acc: 0.4899 | test_loss: 0.6932 | test_acc: 0.4902\n",
      "Epoch: 96 | train_loss: 0.6936 | train_acc: 0.5000 | test_loss: 0.6938 | test_acc: 0.4902\n",
      "Epoch: 97 | train_loss: 0.6935 | train_acc: 0.4894 | test_loss: 0.6932 | test_acc: 0.4902\n",
      "Epoch: 98 | train_loss: 0.6936 | train_acc: 0.4934 | test_loss: 0.6932 | test_acc: 0.4902\n",
      "Epoch: 99 | train_loss: 0.6932 | train_acc: 0.5025 | test_loss: 0.6932 | test_acc: 0.4902\n",
      "Epoch: 100 | train_loss: 0.6937 | train_acc: 0.5025 | test_loss: 0.6931 | test_acc: 0.5098\n",
      "Epoch: 101 | train_loss: 0.6936 | train_acc: 0.4819 | test_loss: 0.6935 | test_acc: 0.4902\n",
      "Epoch: 102 | train_loss: 0.6932 | train_acc: 0.5146 | test_loss: 0.7005 | test_acc: 0.5098\n",
      "Epoch: 103 | train_loss: 0.6937 | train_acc: 0.5091 | test_loss: 0.6935 | test_acc: 0.4902\n",
      "Epoch: 104 | train_loss: 0.6936 | train_acc: 0.5227 | test_loss: 0.6933 | test_acc: 0.4902\n",
      "Epoch: 105 | train_loss: 0.6936 | train_acc: 0.4924 | test_loss: 0.6936 | test_acc: 0.4902\n",
      "Epoch: 106 | train_loss: 0.6936 | train_acc: 0.4884 | test_loss: 0.6934 | test_acc: 0.4902\n",
      "Epoch: 107 | train_loss: 0.6936 | train_acc: 0.4955 | test_loss: 0.6937 | test_acc: 0.4902\n",
      "Epoch: 108 | train_loss: 0.6933 | train_acc: 0.5101 | test_loss: 0.6942 | test_acc: 0.4902\n",
      "Epoch: 109 | train_loss: 0.6935 | train_acc: 0.5045 | test_loss: 0.6933 | test_acc: 0.4902\n",
      "Epoch: 110 | train_loss: 0.6943 | train_acc: 0.5005 | test_loss: 0.6933 | test_acc: 0.4902\n",
      "Epoch: 111 | train_loss: 0.6934 | train_acc: 0.4914 | test_loss: 0.6931 | test_acc: 0.5098\n",
      "Epoch: 112 | train_loss: 0.6935 | train_acc: 0.5010 | test_loss: 0.6931 | test_acc: 0.5098\n",
      "Epoch: 113 | train_loss: 0.6935 | train_acc: 0.4934 | test_loss: 0.6937 | test_acc: 0.4902\n",
      "Epoch: 114 | train_loss: 0.6939 | train_acc: 0.4929 | test_loss: 0.6934 | test_acc: 0.4902\n",
      "Epoch: 115 | train_loss: 0.6937 | train_acc: 0.4940 | test_loss: 0.6931 | test_acc: 0.5098\n",
      "Epoch: 116 | train_loss: 0.6936 | train_acc: 0.4929 | test_loss: 0.6933 | test_acc: 0.4902\n",
      "Epoch: 117 | train_loss: 0.6935 | train_acc: 0.4909 | test_loss: 0.6932 | test_acc: 0.4902\n",
      "Epoch: 118 | train_loss: 0.6935 | train_acc: 0.5086 | test_loss: 0.6973 | test_acc: 0.5098\n",
      "Epoch: 119 | train_loss: 0.6935 | train_acc: 0.5025 | test_loss: 0.6937 | test_acc: 0.4902\n",
      "Epoch: 120 | train_loss: 0.6936 | train_acc: 0.5045 | test_loss: 0.6946 | test_acc: 0.4902\n",
      "Epoch: 121 | train_loss: 0.6936 | train_acc: 0.4854 | test_loss: 0.6932 | test_acc: 0.4902\n",
      "Epoch: 122 | train_loss: 0.6933 | train_acc: 0.5060 | test_loss: 0.6930 | test_acc: 0.5098\n",
      "Epoch: 123 | train_loss: 0.6939 | train_acc: 0.4864 | test_loss: 0.6934 | test_acc: 0.4902\n",
      "Epoch: 124 | train_loss: 0.6937 | train_acc: 0.4834 | test_loss: 0.6943 | test_acc: 0.4902\n",
      "Epoch: 125 | train_loss: 0.6937 | train_acc: 0.5131 | test_loss: 0.6932 | test_acc: 0.4902\n",
      "Epoch: 126 | train_loss: 0.6934 | train_acc: 0.5086 | test_loss: 0.6932 | test_acc: 0.4902\n",
      "Epoch: 127 | train_loss: 0.6933 | train_acc: 0.4980 | test_loss: 0.6943 | test_acc: 0.4902\n",
      "Epoch: 128 | train_loss: 0.6942 | train_acc: 0.4879 | test_loss: 0.6931 | test_acc: 0.5098\n",
      "Epoch: 129 | train_loss: 0.6936 | train_acc: 0.4980 | test_loss: 0.6931 | test_acc: 0.5098\n",
      "Epoch: 130 | train_loss: 0.6935 | train_acc: 0.5096 | test_loss: 0.6933 | test_acc: 0.4902\n",
      "Epoch: 131 | train_loss: 0.6939 | train_acc: 0.5000 | test_loss: 0.6996 | test_acc: 0.4902\n",
      "Epoch: 132 | train_loss: 0.6939 | train_acc: 0.5166 | test_loss: 0.6937 | test_acc: 0.4902\n",
      "Epoch: 133 | train_loss: 0.6936 | train_acc: 0.4894 | test_loss: 0.6930 | test_acc: 0.5098\n",
      "Epoch: 134 | train_loss: 0.6939 | train_acc: 0.5005 | test_loss: 0.6930 | test_acc: 0.5098\n",
      "Epoch: 135 | train_loss: 0.6936 | train_acc: 0.5005 | test_loss: 0.6930 | test_acc: 0.5098\n",
      "Epoch: 136 | train_loss: 0.6940 | train_acc: 0.5066 | test_loss: 0.6930 | test_acc: 0.5098\n",
      "Epoch: 137 | train_loss: 0.6935 | train_acc: 0.4995 | test_loss: 0.6933 | test_acc: 0.4902\n",
      "Epoch: 138 | train_loss: 0.6942 | train_acc: 0.4884 | test_loss: 0.6930 | test_acc: 0.5098\n",
      "Epoch: 139 | train_loss: 0.6948 | train_acc: 0.4753 | test_loss: 0.6939 | test_acc: 0.4902\n",
      "Epoch: 140 | train_loss: 0.6935 | train_acc: 0.5025 | test_loss: 0.6933 | test_acc: 0.4902\n",
      "Epoch: 141 | train_loss: 0.6936 | train_acc: 0.4934 | test_loss: 0.6931 | test_acc: 0.5098\n",
      "Epoch: 142 | train_loss: 0.6936 | train_acc: 0.4824 | test_loss: 0.6933 | test_acc: 0.4902\n",
      "Epoch: 143 | train_loss: 0.6936 | train_acc: 0.5015 | test_loss: 0.6930 | test_acc: 0.5098\n",
      "Epoch: 144 | train_loss: 0.6938 | train_acc: 0.4955 | test_loss: 0.6931 | test_acc: 0.5098\n",
      "Epoch: 145 | train_loss: 0.6935 | train_acc: 0.5055 | test_loss: 0.6930 | test_acc: 0.5098\n",
      "Epoch: 146 | train_loss: 0.6927 | train_acc: 0.4995 | test_loss: 0.6930 | test_acc: 0.5098\n",
      "Epoch: 147 | train_loss: 0.6936 | train_acc: 0.4894 | test_loss: 0.6930 | test_acc: 0.5098\n",
      "Epoch: 148 | train_loss: 0.6936 | train_acc: 0.5005 | test_loss: 0.6932 | test_acc: 0.4902\n",
      "Epoch: 149 | train_loss: 0.6933 | train_acc: 0.5086 | test_loss: 0.6930 | test_acc: 0.5098\n",
      "Epoch: 150 | train_loss: 0.6936 | train_acc: 0.4824 | test_loss: 0.6931 | test_acc: 0.5098\n",
      "Epoch: 151 | train_loss: 0.6940 | train_acc: 0.4854 | test_loss: 0.6933 | test_acc: 0.4902\n",
      "Epoch: 152 | train_loss: 0.6932 | train_acc: 0.5050 | test_loss: 0.6943 | test_acc: 0.4902\n",
      "Epoch: 153 | train_loss: 0.6938 | train_acc: 0.5025 | test_loss: 0.6934 | test_acc: 0.4902\n",
      "Epoch: 154 | train_loss: 0.6932 | train_acc: 0.5111 | test_loss: 0.6934 | test_acc: 0.4902\n",
      "Epoch: 155 | train_loss: 0.6938 | train_acc: 0.5106 | test_loss: 0.6930 | test_acc: 0.5098\n",
      "Epoch: 156 | train_loss: 0.6937 | train_acc: 0.4864 | test_loss: 0.6933 | test_acc: 0.4902\n",
      "Epoch: 157 | train_loss: 0.6933 | train_acc: 0.4929 | test_loss: 0.6930 | test_acc: 0.5098\n",
      "Epoch: 158 | train_loss: 0.6937 | train_acc: 0.4894 | test_loss: 0.6934 | test_acc: 0.4902\n",
      "Epoch: 159 | train_loss: 0.6937 | train_acc: 0.5005 | test_loss: 0.6930 | test_acc: 0.5098\n",
      "Epoch: 160 | train_loss: 0.6938 | train_acc: 0.4834 | test_loss: 0.6932 | test_acc: 0.4902\n",
      "Epoch: 161 | train_loss: 0.6937 | train_acc: 0.4849 | test_loss: 0.6934 | test_acc: 0.4902\n",
      "Epoch: 162 | train_loss: 0.6935 | train_acc: 0.4980 | test_loss: 0.6936 | test_acc: 0.4902\n",
      "Epoch: 163 | train_loss: 0.6931 | train_acc: 0.5040 | test_loss: 0.6945 | test_acc: 0.5098\n",
      "Epoch: 164 | train_loss: 0.6942 | train_acc: 0.4924 | test_loss: 0.7071 | test_acc: 0.4902\n",
      "Epoch: 165 | train_loss: 0.6935 | train_acc: 0.5020 | test_loss: 0.6930 | test_acc: 0.5098\n",
      "Epoch: 166 | train_loss: 0.6941 | train_acc: 0.4854 | test_loss: 0.6932 | test_acc: 0.4902\n",
      "Epoch: 167 | train_loss: 0.6939 | train_acc: 0.5040 | test_loss: 0.6948 | test_acc: 0.4902\n",
      "Epoch: 168 | train_loss: 0.6939 | train_acc: 0.4874 | test_loss: 0.6932 | test_acc: 0.4902\n",
      "Epoch: 169 | train_loss: 0.6939 | train_acc: 0.4879 | test_loss: 0.6933 | test_acc: 0.4902\n",
      "Epoch: 170 | train_loss: 0.6935 | train_acc: 0.4919 | test_loss: 0.6931 | test_acc: 0.5098\n",
      "Epoch: 171 | train_loss: 0.6937 | train_acc: 0.5000 | test_loss: 0.6932 | test_acc: 0.4902\n",
      "Epoch: 172 | train_loss: 0.6935 | train_acc: 0.4869 | test_loss: 0.6931 | test_acc: 0.5098\n"
     ]
    }
   ]
  },
  {
   "cell_type": "code",
   "source": [],
   "metadata": {
    "id": "M5ewevgvK2bj"
   },
   "execution_count": null,
   "outputs": []
  }
 ]
}
